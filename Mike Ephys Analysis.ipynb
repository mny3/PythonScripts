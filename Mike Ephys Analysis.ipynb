{
 "cells": [
  {
   "cell_type": "markdown",
   "metadata": {},
   "source": [
    "# Load Files in Directory"
   ]
  },
  {
   "cell_type": "markdown",
   "metadata": {},
   "source": [
    "Prior to running any analysis open gitbash and remove headers from the .asc data file exported by HEKA by running the following lines of code within the folder containing the data.\n",
    "\n",
    "```\n",
    "1. for file in {.*,*}; do sed -i '/Series/d' \"$file\";done\n",
    "2. for file in {.*,*}; do sed -i '/Sweep/d' \"$file\";done\n",
    "3. for file in {.*,*}; do sed -i '/Index/d' \"$file\";done\n",
    "4. for file in {.*,*}; do sed -i '/s\\*$/d' \"$file\";done\n",
    "```\n",
    "Next, run the below codeblock to change the working directory to the folder containing the data to be analyzed and create a list of all .asc files within the folder."
   ]
  },
  {
   "cell_type": "code",
   "execution_count": null,
   "metadata": {},
   "outputs": [],
   "source": [
    "import matplotlib.pyplot as plt\n",
    "%matplotlib inline\n",
    "import numpy as np\n",
    "import os\n",
    "import pandas as pd\n",
    "from matplotlib import gridspec\n",
    "import matplotlib.lines as mlines\n",
    "\n",
    "file_list=[]\n",
    "os.chdir('C:/Users/mny3/Desktop/Mike Young Data/flna_data/180720_mp1flna_poke')\n",
    "file_list += [file for file in os.listdir() if file.endswith('asc')]"
   ]
  },
  {
   "cell_type": "markdown",
   "metadata": {},
   "source": [
    "# Pressure Clamp Analysis"
   ]
  },
  {
   "cell_type": "markdown",
   "metadata": {},
   "source": [
    "## Representative Trace"
   ]
  },
  {
   "cell_type": "markdown",
   "metadata": {},
   "source": [
    "The below code will create a plot of the representative traces aligned to the stimulus trace. The traces are baseline subtracted based on the mean current during the 5s prepulse from 1000 ms < t < 4900 ms. For visualization purposes only the subset of the trace after stimulus onset (t=5000 ms) is shown. If you would like to visualize the entire trace including the prepulse set the variable whole_trace to True. The red dotted line in the trace indicates 0 pA."
   ]
  },
  {
   "cell_type": "code",
   "execution_count": null,
   "metadata": {},
   "outputs": [],
   "source": [
    "#Loops over all files in a folder:\n",
    "#Reads file, slices sweep to only show area of interest, shows a plot of the trace for each sweep within that slice\n",
    "for i in file_list:\n",
    "    sweep_df =  pd.read_csv(i,sep=\",\",header=None,\n",
    "                            names=['index','t1','i','t2','p','t3','v'])\n",
    "\n",
    "    #convert to pA and ms\n",
    "    sweep_df.loc[:,'i'] *= 10**12\n",
    "    sweep_df.loc[:,'t1'] *= 1000\n",
    "    \n",
    "    #define the part of the sweep to show (slice) and split the data into its composite sweeps\n",
    "    sweep_number=8\n",
    "    sweep_split = np.array_split(sweep_df, sweep_number)\n",
    "    \n",
    "    #baseline subtract based on mean between t=1000 ms and t=4900 ms\n",
    "    for j in range(len(sweep_split)):\n",
    "        sweep_split[j].loc[:,'i'] -=np.mean(sweep_split[j].i[(sweep_split[j].t1>=1000) & (sweep_split[j].t1<=4500)])\n",
    "    \n",
    "    #triaging \n",
    "    #sweep_6 = sweep_split[6]\n",
    "    #if float(min(sweep_6.t1[sweep_6.i==min(sweep_6.i)])) >= 5050:\n",
    "        #print(i+\" failed delay\")\n",
    "        #trace_colour='r-'\n",
    "    #elif min(sweep_6.i) > -15:\n",
    "        #print(i+\" failed min current\")\n",
    "        #trace_colour='r-'\n",
    "    #elif float(sweep_6.i[(sweep_6.t1 == 5200)]) < 0.9 * min(sweep_6.i):\n",
    "        #print(i+\" failed inactivation\")\n",
    "        #trace_colour='r-'\n",
    "    #else:\n",
    "        #trace_colour='b-'\n",
    "        #next\n",
    "        \n",
    "    #If you would like to see the whole trace set whole_trace to TRUE\n",
    "    whole_trace = False\n",
    "    if whole_trace == True:\n",
    "        plot_start = 0\n",
    "    else:\n",
    "        plot_start = 5000\n",
    "    \n",
    "    fig,axarr = plt.subplots(2, sharex=True)\n",
    "    \n",
    "    colors = plt.cm.Blues(np.linspace(0,1,sweep_number))\n",
    "    \n",
    "    gs = gridspec.GridSpec(2, 1, height_ratios=[1, 10])\n",
    "    axarr[0]=plt.subplot(gs[0])\n",
    "    for j in range(len(sweep_split)):\n",
    "        axarr[0].plot(sweep_split[j].t1,sweep_split[j].p,'r',linewidth=0.5)\n",
    "    axarr[1]=plt.subplot(gs[1])\n",
    "    for j in range(len(sweep_split)):\n",
    "        axarr[1].plot(sweep_split[j].t1,sweep_split[j].i,color=colors[j],linewidth=0.5)\n",
    "    \n",
    "    axarr[0].axis('off')\n",
    "    axarr[1].axis('off')\n",
    "    \n",
    "    lh = mlines.Line2D([max(sweep_split[7].t1)-20,max(sweep_split[7].t1)], \n",
    "                      [-20,-20],color='black')\n",
    "    lv = mlines.Line2D([max(sweep_split[7].t1)-20,max(sweep_split[7].t1)-20], \n",
    "                      [-10,-20],color='black')\n",
    "    axarr[1].text(max(sweep_split[7].t1)-70, -15, '10 pA', fontsize=10)\n",
    "    axarr[1].text(max(sweep_split[7].t1)-20, -27, '20 ms', fontsize=10)\n",
    "    axarr[0].text(max(sweep_split[7].t1)-40, min(sweep_split[7].p), '-70 mm Hg', fontsize=10)\n",
    "    axarr[1].text(max(sweep_split[7].t1)-150, -25, '-80 mV', fontsize=14)\n",
    "    axarr[1].set_xlim(plot_start,max(sweep_split[0].t1))    \n",
    "    axarr[0].set_xlim(plot_start,max(sweep_split[0].t1))\n",
    "    axarr[1].plot(sweep_split[0].t1,np.repeat(0,len(sweep_split[0].t1)),'r--',linewidth=1)\n",
    "    \n",
    "    axarr[1].add_line(lh)\n",
    "    axarr[1].add_line(lv)\n",
    "\n",
    "    plt.show()\n",
    "    fig.savefig(i[:-4]+'_rep_trace.jpg', facecolor=\"white\")"
   ]
  },
  {
   "cell_type": "markdown",
   "metadata": {},
   "source": [
    "# Indentation Step Protocol"
   ]
  },
  {
   "cell_type": "markdown",
   "metadata": {},
   "source": [
    "## Representative Trace"
   ]
  },
  {
   "cell_type": "markdown",
   "metadata": {},
   "source": [
    "The below code will create a plot of the representative traces aligned to the stimulus trace. The traces are baseline subtracted based on the mean current over the course of the first 100 ms prior to stimulus onset. The red dotted line in the trace indicates 0 pA."
   ]
  },
  {
   "cell_type": "code",
   "execution_count": null,
   "metadata": {
    "scrolled": false
   },
   "outputs": [],
   "source": [
    "for ii in file_list:\n",
    "    filename = ii #type file to be analyzed here\n",
    "    sweep_df = pd.read_csv(filename,sep = ',',header=None, names = ['index','t1','i','t2','poke'])\n",
    "    \n",
    "    sweep_df.loc[:,'i'] *= 10**12\n",
    "    sweep_df.loc[:,'t1'] *= 1000\n",
    "    sweep_df.loc[:,'poke'] *= 10\n",
    "    \n",
    "    #samples per sweep\n",
    "    samples = 11125\n",
    "    nsweeps = int(len(sweep_df)/samples)\n",
    "    sweep_split = np.array_split(sweep_df,nsweeps)\n",
    "\n",
    "    if np.mean(sweep_split[nsweeps-1].i[sweep_split[nsweeps-1].t1 >= 400]) <= -800 :\n",
    "        sweep_split = sweep_split[0:nsweeps-1]\n",
    "        nsweeps -= 1\n",
    "    else:\n",
    "        next\n",
    "\n",
    "    #remove pokes before visible contact\n",
    "    contact = 1\n",
    "    sweep_split = sweep_split[contact-1:nsweeps]\n",
    "    nsweeps = len(sweep_split)\n",
    "    \n",
    "    #undo auto poke leak subtract\n",
    "    #baseline subtract\n",
    "    for k in range(nsweeps):\n",
    "        sweep_split[k].poke -= np.mean(sweep_split[k].poke[(sweep_split[k].t1 <= 100)]) \n",
    "        sweep_split[k].i -= np.mean(sweep_split[k].i[(sweep_split[k].t1 <= 100)])\n",
    "    \n",
    "    #scale bar\n",
    "    xscale = list(range(450,500))\n",
    "    yscale = list(range(-500,-200))\n",
    "\n",
    "    fig = plt.figure(); ax1 = fig.add_subplot(10,1,1); ax2 = fig.add_subplot(10,1,(2,10))\n",
    "    plt.ylabel('I (pA)')\n",
    "    plt.xlabel('Time (ms)')\n",
    "    ax1.axis('off')\n",
    "    ax1.set_xlim(0,500)\n",
    "    ax2.set_xlim(0,500)\n",
    "    ax2.set_ylim(1.8*min(sweep_split[nsweeps-1].i[(sweep_split[nsweeps-1].t1 > 150) & (sweep_split[nsweeps-1].t1 < 300)]),100)\n",
    "    ax2.axis('off')\n",
    "    for i in range(nsweeps):\n",
    "        ax1.plot(sweep_split[i].t1,sweep_split[i].poke, 'r-',linewidth = 0.5)\n",
    "    for j in range(nsweeps):\n",
    "        ax2.plot(sweep_split[j].t1, sweep_split[j].i, 'b-', linewidth = 0.5)\n",
    "    ax2.plot([min(xscale)]*len(yscale),yscale,'k-')\n",
    "    ax2.plot(xscale,[min(yscale)]*len(xscale),'k-')\n",
    "    ax2.plot(sweep_split[0].t1,np.repeat(0,len(sweep_split[0].t1)),'r--',linewidth=1)\n",
    "    plt.show()\n",
    "\n",
    "    peak_i = []\n",
    "    poke_step = []\n",
    "    #for ii in range(nsweeps):\n",
    "        #peak_i.append(min(sweep_split[ii].i[(sweep_split[ii].t1 > 150) & (sweep_split[ii].t1 < 300)]))\n",
    "        #poke_step.append(np.mean(sweep_split[ii].poke[(sweep_split[ii].t1 > 200) & (sweep_split[ii].t1 < 250)]))\n",
    "    \n",
    "    #poke_curve = pd.DataFrame({'cell_id':filename,\n",
    "                               #'distance':poke_step,\n",
    "                               #'peak_i':peak_i})\n",
    "\n",
    "    #normalize to point of contact\n",
    "    #poke_curve.distance = poke_curve.distance-min(poke_curve.distance)\n",
    "\n",
    "    #fig2 = plt.figure()\n",
    "    #plt.plot(poke_curve.distance,poke_curve.peak_i)\n",
    "    #plt.xlabel('Distance (microns)')\n",
    "    #plt.ylabel('I (pA)')\n",
    "\n",
    "    fig.savefig(filename[:-4]+'rep_trace.jpg',facecolor='white')\n",
    "    #fig2.savefig(filename[:-4]+'poke_curve.jpg',facecolor='white')\n",
    "    #poke_curve.to_csv(filename[:-4]+'poke_curve.csv')\n"
   ]
  },
  {
   "cell_type": "markdown",
   "metadata": {},
   "source": [
    "## Inactivation Tau "
   ]
  },
  {
   "cell_type": "markdown",
   "metadata": {},
   "source": [
    "Fit a single exponential to the trace from the time at which the current is 95% of the peak amplitude (following the peak) until the 300 ms timepoint. Fit is performed on the last complete step of each protocol and is overlayed on the raw current being fit. Currents are leak subtracted. Inactivation taus from each file are appended to a list variable inact_tau_list and can be used for further analysis."
   ]
  },
  {
   "cell_type": "code",
   "execution_count": null,
   "metadata": {
    "scrolled": true
   },
   "outputs": [],
   "source": [
    "#load some modules necessary for curve-fitting analysis\n",
    "from scipy.optimize import curve_fit\n",
    "from scipy.optimize import minimize, fmin, leastsq\n",
    "\n",
    "#Define function to be used to fit traces as well as some initial parameter estimates in the variable guess\n",
    "def single_exp(t, a1, tau1, c):\n",
    "    return -a1 * np.exp((-1/tau1) * t) + c\n",
    "\n",
    "guess = (2000, 2, -30)\n",
    "inact_tau_list=[]\n",
    "\n",
    "for ii in file_list:\n",
    "    filename = ii #type file to be analyzed here\n",
    "    sweep_df = pd.read_csv(filename,sep = ',',header=None, names = ['index','t1','i','t2','poke'])\n",
    "    \n",
    "    sweep_df.loc[:,'i'] *= 10**12\n",
    "    sweep_df.loc[:,'t1'] *= 1000\n",
    "    sweep_df.loc[:,'poke'] *= 10\n",
    "    \n",
    "    #samples per sweep\n",
    "    samples = 11125\n",
    "    nsweeps = int(len(sweep_df)/samples)\n",
    "    sweep_split = np.array_split(sweep_df,nsweeps)\n",
    "\n",
    "    if np.mean(sweep_split[nsweeps-1].i[sweep_split[nsweeps-1].t1 >= 400]) <= -800 :\n",
    "        sweep_split = sweep_split[0:nsweeps-1]\n",
    "        nsweeps -= 1\n",
    "    else:\n",
    "        next\n",
    "        \n",
    "    last_sweep = sweep_split[nsweeps-1]\n",
    "    \n",
    "    #undo auto poke leak subtract\n",
    "    #baseline subtract\n",
    "    last_sweep.poke -= np.mean(last_sweep.poke[(last_sweep.t1 <= 100)]) \n",
    "    last_sweep.i -= np.mean(last_sweep.i[(last_sweep.t1 <= 100)])\n",
    "    \n",
    "    peak_time = last_sweep.t1[last_sweep.i == min(last_sweep.i)]\n",
    "    resp_region = last_sweep[(last_sweep.i >= 0.95 * min(last_sweep.i)) & (last_sweep.t1 <= 300)]\n",
    "    decay_region = resp_region[resp_region.t1 > float(peak_time)]\n",
    "    offset = min(decay_region.t1)\n",
    "    decay_region.t1 -= offset\n",
    "    \n",
    "    try:\n",
    "        popt, pcov = curve_fit(single_exp, decay_region.t1, decay_region.i, guess, maxfev=10000)\n",
    "    except RuntimeError:\n",
    "        print(\"Error - curve_fit failed\")\n",
    "    inact_tau_list.append(popt[1])\n",
    "    \n",
    "    xfine = np.linspace(0., int(max(decay_region.t1)), int(max(decay_region.t1)))\n",
    "    decay_region.t1 += offset\n",
    "\n",
    "    fig = plt.figure(); ax1 = fig.add_subplot(10,1,1); ax2 = fig.add_subplot(10,1,(2,10))\n",
    "    plt.ylabel('I (pA)')\n",
    "    plt.xlabel('Time (ms)')\n",
    "    ax1.axis('off')\n",
    "    ax1.set_xlim(0,500)\n",
    "    ax2.set_xlim(0,500)\n",
    "    ax2.set_ylim(1.8*min(last_sweep.i[(last_sweep.t1 > 150) & (last_sweep.t1 < 300)]),100)\n",
    "    ax1.plot(last_sweep.t1,last_sweep.poke, 'g-',linewidth = 1)\n",
    "    ax2.axis('off')\n",
    "    ax2.plot(last_sweep.t1, last_sweep.i, 'b-', linewidth = 1)\n",
    "    ax2.plot(xfine+min(decay_region.t1), single_exp(xfine, *popt), 'r-')\n",
    "    plt.show()\n",
    "    \n",
    "print(inact_tau_list)"
   ]
  },
  {
   "cell_type": "markdown",
   "metadata": {},
   "source": [
    "# Combine all CSV Files in folder"
   ]
  },
  {
   "cell_type": "markdown",
   "metadata": {},
   "source": [
    "The following code takes all individual csv files in a folder and aggregates them into a single spreadsheet that can then be analyzed."
   ]
  },
  {
   "cell_type": "code",
   "execution_count": null,
   "metadata": {},
   "outputs": [],
   "source": [
    "import shutil\n",
    "import glob\n",
    "\n",
    "#import csv files from folder\n",
    "path = r'C:/Users/mny3/Desktop/whasil'\n",
    "allFiles = glob.glob(path + \"/*.csv\")\n",
    "with open('chondrocyte_agg.csv', 'wb') as outfile:\n",
    "    for i, fname in enumerate(allFiles):\n",
    "        with open(fname, 'rb') as infile:\n",
    "            if i != 0:\n",
    "                infile.readline()  # Throw away header on all but first file\n",
    "            # Block copy rest of file from input to output without parsing\n",
    "            shutil.copyfileobj(infile, outfile)\n",
    "            print(fname + \" has been imported.\")"
   ]
  },
  {
   "cell_type": "code",
   "execution_count": null,
   "metadata": {},
   "outputs": [],
   "source": []
  }
 ],
 "metadata": {
  "kernelspec": {
   "display_name": "Python 3",
   "language": "python",
   "name": "python3"
  },
  "language_info": {
   "codemirror_mode": {
    "name": "ipython",
    "version": 3
   },
   "file_extension": ".py",
   "mimetype": "text/x-python",
   "name": "python",
   "nbconvert_exporter": "python",
   "pygments_lexer": "ipython3",
   "version": "3.6.5"
  },
  "toc": {
   "base_numbering": 1,
   "nav_menu": {
    "height": "235px",
    "width": "160px"
   },
   "number_sections": true,
   "sideBar": true,
   "skip_h1_title": false,
   "title_cell": "Table of Contents",
   "title_sidebar": "Contents",
   "toc_cell": false,
   "toc_position": {
    "height": "calc(100% - 180px)",
    "left": "10px",
    "top": "150px",
    "width": "236px"
   },
   "toc_section_display": true,
   "toc_window_display": true
  }
 },
 "nbformat": 4,
 "nbformat_minor": 2
}
